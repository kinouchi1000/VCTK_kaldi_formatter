{
 "cells": [
  {
   "cell_type": "code",
   "execution_count": null,
   "metadata": {},
   "outputs": [],
   "source": [
    "vctk_path = \"VCTK-Corpus\"\n",
    "kaldi_dir = \"VCTK_kaldi\""
   ]
  },
  {
   "cell_type": "code",
   "execution_count": null,
   "metadata": {},
   "outputs": [],
   "source": [
    "import os \n",
    "import shutil\n",
    "\n",
    "if os.path.exists(kaldi_dir):\n",
    "    shutil.rmtree(kaldi_dir)\n",
    "os.mkdir(kaldi_dir)"
   ]
  },
  {
   "cell_type": "code",
   "execution_count": null,
   "metadata": {},
   "outputs": [],
   "source": [
    "\n",
    "import glob\n",
    "text_path_list = glob.glob(os.path.join(vctk_path, \"txt\",\"*\",\"*.txt\"))\n",
    "wav_path_list = glob.glob(os.path.join(vctk_path, \"wav48\",\"*\",\"*.wav\"))\n",
    "\n",
    "dataset_dict = {} # {utt_id:{text:\"text\", wav:\"path\"},....}\n",
    "for text_path in text_path_list:\n",
    "    basename = os.path.basename(text_path).split(\".\")[0]\n",
    "    with open(text_path) as f:\n",
    "        text = f.readline().replace(\"\\n\",\"\")\n",
    "    dataset_dict[basename] = {\"text\":text}\n",
    "\n",
    "for wav_path in wav_path_list:\n",
    "    basename = os.path.basename(wav_path).split(\".\")[0]\n",
    "    if basename in dataset_dict:\n",
    "\n",
    "        dataset_dict[basename][\"wav\"] = wav_path\n",
    "    else:\n",
    "        print(f\"not exit id {basename} in text\")\n"
   ]
  },
  {
   "cell_type": "code",
   "execution_count": null,
   "metadata": {},
   "outputs": [],
   "source": [
    "import os\n",
    "# create text, wav.scp, utt2spk\n",
    "\n",
    "text_list=[]\n",
    "wavscp_list=[]\n",
    "utt2spk_list=[]\n",
    "for uttid, data_dict in dataset_dict.items():\n",
    "    text_list.append(f\"{uttid} {data_dict['text']}\\n\")\n",
    "    wavscp_list.append(f\"{uttid} {data_dict['wav']}\\n\")\n",
    "    utt2spk_list.append(f\"{uttid} {uttid.split('_')[0]}\\n\")\n",
    "\n",
    "assert len(text_list) == len(wavscp_list) == len(utt2spk_list)\n",
    "\n",
    "with open(os.path.join(kaldi_dir,\"text\"), \"w\") as wf:\n",
    "    wf.writelines(text_list)\n",
    "with open(os.path.join(kaldi_dir,\"wav.scp\"), \"w\") as wf:\n",
    "    wf.writelines(wavscp_list)\n",
    "with open(os.path.join(kaldi_dir,\"utt2spk\"),\"w\") as wf:\n",
    "    wf.writelines(utt2spk_list)"
   ]
  }
 ],
 "metadata": {
  "kernelspec": {
   "display_name": "Python 3.9.13 64-bit",
   "language": "python",
   "name": "python3"
  },
  "language_info": {
   "codemirror_mode": {
    "name": "ipython",
    "version": 3
   },
   "file_extension": ".py",
   "mimetype": "text/x-python",
   "name": "python",
   "nbconvert_exporter": "python",
   "pygments_lexer": "ipython3",
   "version": "3.9.13"
  },
  "orig_nbformat": 4,
  "vscode": {
   "interpreter": {
    "hash": "aee8b7b246df8f9039afb4144a1f6fd8d2ca17a180786b69acc140d282b71a49"
   }
  }
 },
 "nbformat": 4,
 "nbformat_minor": 2
}
