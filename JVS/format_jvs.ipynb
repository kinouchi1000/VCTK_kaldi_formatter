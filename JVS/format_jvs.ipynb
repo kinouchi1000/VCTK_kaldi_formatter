{
 "cells": [
  {
   "cell_type": "markdown",
   "metadata": {},
   "source": [
    "# JVS corpus download"
   ]
  },
  {
   "cell_type": "code",
   "execution_count": null,
   "metadata": {
    "collapsed": true,
    "jupyter": {
     "outputs_hidden": true
    },
    "tags": []
   },
   "outputs": [],
   "source": [
    "!pip install -U gdown\n",
    "!gdown https://drive.google.com/u/0/uc?id=19oAw8wWn3Y7z6CKChRdAyGOB9yupL_Xt\n",
    "!unzip jvs_ver1.zip\n",
    "!pip install mojimoji"
   ]
  },
  {
   "cell_type": "code",
   "execution_count": 71,
   "metadata": {},
   "outputs": [],
   "source": [
    "import pathlib\n",
    "\n",
    "kaldi_all_path = pathlib.Path(\"./data/jvs\")"
   ]
  },
  {
   "cell_type": "code",
   "execution_count": 72,
   "metadata": {},
   "outputs": [
    {
     "name": "stdout",
     "output_type": "stream",
     "text": [
      "nonpara : 2018\n"
     ]
    }
   ],
   "source": [
    "import glob\n",
    "import os\n",
    "import shutil\n",
    "\n",
    "# ディレクトリを作成\n",
    "if kaldi_all_path.exists():\n",
    "  shutil.rmtree(str(kaldi_all_path))\n",
    "kaldi_all_path.mkdir(exist_ok=True, parents=True)\n",
    "\n",
    "result_dict = {}\n",
    "\n",
    "jvs_base= \"jvs_ver1\"\n",
    "not_exist_count = 0\n",
    "\n",
    "for utt_dir in glob.glob(f\"{jvs_base}/*\"):\n",
    "  if \"/jvs\" not in utt_dir:\n",
    "    continue\n",
    "  spk_id = utt_dir.split(\"/\")[-1]\n",
    "\n",
    "\n",
    "  dir_types = [\"falset10\",\"nonpara30\",\"parallel100\",\"whisper10\"]\n",
    "\n",
    "  # falset10\n",
    "  for dir_type in dir_types:\n",
    "    with open(utt_dir+f\"/{dir_type}/transcripts_utf8.txt\") as f:\n",
    "      lines = f.readlines()\n",
    "    for line in lines:\n",
    "      id_text = line.split(\":\")\n",
    "      id = id_text[0]\n",
    "      text = id_text[1]\n",
    "      wav_path = os.path.join(jvs_base,spk_id,dir_type,\"wav24kHz16bit\",id+\".wav\")\n",
    "      if not pathlib.Path(wav_path).exists():\n",
    "        not_exist_count +=1\n",
    "        continue\n",
    "      if spk_id not in result_dict:\n",
    "        result_dict[spk_id] = []\n",
    "      result_dict[spk_id].append({\"utt_id\":id, \"text\":text,\"wav\":wav_path})\n",
    "\n",
    "print(f\"nonpara : {not_exist_count}\")\n",
    "with open(kaldi_all_path/\"wav.scp\",\"w\") as wav_scp, open(kaldi_all_path/\"text\", \"w\") as text, open(kaldi_all_path/\"utt2spk\",\"w\") as utt2spk:\n",
    "  for spk_id, value in result_dict.items():\n",
    "    for v in value:\n",
    "      text.write(f\"{spk_id}_{v['utt_id']} {v['text']}\")\n",
    "      wav_scp.write(f\"{spk_id}_{v['utt_id']} {v['wav']}\\n\")\n",
    "      utt2spk.write(f\"{spk_id}_{v['utt_id']} {spk_id}\\n\")"
   ]
  },
  {
   "cell_type": "code",
   "execution_count": 73,
   "metadata": {},
   "outputs": [],
   "source": [
    "# make spk2utt\n",
    "\n",
    "dir_list = [\"data/jvs\" ]\n",
    "\n",
    "\n",
    "for dir in dir_list:\n",
    "    spk2utt_dict = {}\n",
    "    utt2spk_path = os.path.join(dir,\"utt2spk\")\n",
    "    with open(utt2spk_path) as f:\n",
    "        lines = f.readlines()\n",
    "    for line in lines:\n",
    "        utt_spk = line.rstrip().split(\" \")\n",
    "        if utt_spk[1] not in spk2utt_dict:\n",
    "            spk2utt_dict[utt_spk[1]] =[]\n",
    "        spk2utt_dict[utt_spk[1]].append(utt_spk[0])\n",
    "    with open(os.path.join(dir, \"spk2utt\"), \"w\") as spk2utt: \n",
    "        for spk , utt in spk2utt_dict.items():\n",
    "            spk2utt.write(f\"{spk} {' '.join(utt)}\\n\")\n"
   ]
  },
  {
   "cell_type": "code",
   "execution_count": 74,
   "metadata": {},
   "outputs": [],
   "source": [
    "! bash sort.sh data/jvs data/jvs"
   ]
  },
  {
   "cell_type": "code",
   "execution_count": 75,
   "metadata": {},
   "outputs": [
    {
     "name": "stderr",
     "output_type": "stream",
     "text": [
      "/var/folders/ch/ggth3d2s04lgwbglg2w4y69h0000gp/T/ipykernel_84613/1553190945.py:11: DeprecationWarning: Call to deprecated method setMode. (Old API will be removed in v3.0.) -- Deprecated since version 2.1.\n",
      "  kakasi.setMode('H','a')\n",
      "/var/folders/ch/ggth3d2s04lgwbglg2w4y69h0000gp/T/ipykernel_84613/1553190945.py:12: DeprecationWarning: Call to deprecated method setMode. (Old API will be removed in v3.0.) -- Deprecated since version 2.1.\n",
      "  kakasi.setMode('K','a')\n",
      "/var/folders/ch/ggth3d2s04lgwbglg2w4y69h0000gp/T/ipykernel_84613/1553190945.py:13: DeprecationWarning: Call to deprecated method setMode. (Old API will be removed in v3.0.) -- Deprecated since version 2.1.\n",
      "  kakasi.setMode('J','a')\n",
      "/var/folders/ch/ggth3d2s04lgwbglg2w4y69h0000gp/T/ipykernel_84613/1553190945.py:14: DeprecationWarning: Call to deprecated method getConverter. (Old API will be removed in v3.0.) -- Deprecated since version 2.1.\n",
      "  conversion = kakasi.getConverter()\n",
      "/var/folders/ch/ggth3d2s04lgwbglg2w4y69h0000gp/T/ipykernel_84613/1553190945.py:22: DeprecationWarning: Call to deprecated method do. (Old API will be removed in v3.0.) -- Deprecated since version 2.1.\n",
      "  convd_text = \" \".join([conversion.do(token) for token in result.split(\" \")])\n"
     ]
    },
    {
     "ename": "AttributeError",
     "evalue": "'_io.TextIOWrapper' object has no attribute 'translate'",
     "output_type": "error",
     "traceback": [
      "\u001b[0;31m---------------------------------------------------------------------------\u001b[0m",
      "\u001b[0;31mAttributeError\u001b[0m                            Traceback (most recent call last)",
      "\u001b[1;32mセル7 を /Users/kinouchitakahiro/Documents/fusic/kaldi_formatter/JVS/format_jvs.ipynb\u001b[0m in \u001b[0;36m<cell line: 19>\u001b[0;34m()\u001b[0m\n\u001b[1;32m     <a href='vscode-notebook-cell:/Users/kinouchitakahiro/Documents/fusic/kaldi_formatter/JVS/format_jvs.ipynb#W6sZmlsZQ%3D%3D?line=23'>24</a>\u001b[0m     convd_text \u001b[39m=\u001b[39m convd_text\u001b[39m.\u001b[39mreplace(\u001b[39m\"\u001b[39m\u001b[39m 。\u001b[39m\u001b[39m\"\u001b[39m,\u001b[39m\"\u001b[39m\u001b[39m.\u001b[39m\u001b[39m\"\u001b[39m)\n\u001b[1;32m     <a href='vscode-notebook-cell:/Users/kinouchitakahiro/Documents/fusic/kaldi_formatter/JVS/format_jvs.ipynb#W6sZmlsZQ%3D%3D?line=24'>25</a>\u001b[0m     convd_text \u001b[39m=\u001b[39m mojimoji\u001b[39m.\u001b[39mzen_to_han(convd_text)\n\u001b[0;32m---> <a href='vscode-notebook-cell:/Users/kinouchitakahiro/Documents/fusic/kaldi_formatter/JVS/format_jvs.ipynb#W6sZmlsZQ%3D%3D?line=25'>26</a>\u001b[0m     text\u001b[39m.\u001b[39;49mtranslate(\u001b[39mstr\u001b[39m\u001b[39m.\u001b[39mmaketrans({\u001b[39mchr\u001b[39m(\u001b[39m0xFF01\u001b[39m \u001b[39m+\u001b[39m i): \u001b[39mchr\u001b[39m(\u001b[39m0x21\u001b[39m \u001b[39m+\u001b[39m i) \u001b[39mfor\u001b[39;00m i \u001b[39min\u001b[39;00m \u001b[39mrange\u001b[39m(\u001b[39m94\u001b[39m)}))\n\u001b[1;32m     <a href='vscode-notebook-cell:/Users/kinouchitakahiro/Documents/fusic/kaldi_formatter/JVS/format_jvs.ipynb#W6sZmlsZQ%3D%3D?line=26'>27</a>\u001b[0m     new_text_list\u001b[39m.\u001b[39mappend(\u001b[39mf\u001b[39m\u001b[39m\"\u001b[39m\u001b[39m{\u001b[39;00mid_text[\u001b[39m0\u001b[39m]\u001b[39m}\u001b[39;00m\u001b[39m \u001b[39m\u001b[39m{\u001b[39;00mconvd_text\u001b[39m}\u001b[39;00m\u001b[39m\\n\u001b[39;00m\u001b[39m\"\u001b[39m)\n\u001b[1;32m     <a href='vscode-notebook-cell:/Users/kinouchitakahiro/Documents/fusic/kaldi_formatter/JVS/format_jvs.ipynb#W6sZmlsZQ%3D%3D?line=28'>29</a>\u001b[0m \u001b[39mwith\u001b[39;00m \u001b[39mopen\u001b[39m(text_path,\u001b[39m\"\u001b[39m\u001b[39mw\u001b[39m\u001b[39m\"\u001b[39m) \u001b[39mas\u001b[39;00m wf:\n",
      "\u001b[0;31mAttributeError\u001b[0m: '_io.TextIOWrapper' object has no attribute 'translate'"
     ]
    }
   ],
   "source": [
    "import pyopenjtalk\n",
    "import MeCab\n",
    "import pykakasi\n",
    "import mojimoji\n",
    "text_path = os.path.join(kaldi_all_path , \"text\")\n",
    "\n",
    "new_text_list = []\n",
    "\n",
    "wakati = MeCab.Tagger(\"-Owakati\")#\"-d  /usr/local/lib/mecab/dic/mecab-ipadic-neologd/\")\n",
    "kakasi = pykakasi.kakasi()\n",
    "kakasi.setMode('H','a')\n",
    "kakasi.setMode('K','a')\n",
    "kakasi.setMode('J','a')\n",
    "conversion = kakasi.getConverter()\n",
    "\n",
    "with open(text_path) as rf:\n",
    "    lines = rf.readlines()\n",
    "\n",
    "for line in lines:\n",
    "    id_text = line.rstrip().split(' ')\n",
    "    result = wakati.parse(id_text[1]).rstrip()\n",
    "    convd_text = \" \".join([conversion.do(token) for token in result.split(\" \")])\n",
    "    convd_text = convd_text.replace(\" 、\",\",\")\n",
    "    convd_text = convd_text.replace(\" 。\",\".\")\n",
    "    convd_text = mojimoji.zen_to_han(convd_text)\n",
    "    new_text_list.append(f\"{id_text[0]} {convd_text}\\n\")\n",
    "\n",
    "with open(text_path,\"w\") as wf:\n",
    "    wf.writelines(new_text_list)"
   ]
  },
  {
   "cell_type": "code",
   "execution_count": null,
   "metadata": {},
   "outputs": [],
   "source": []
  }
 ],
 "metadata": {
  "kernelspec": {
   "display_name": "Python 3.10.4 ('random')",
   "language": "python",
   "name": "python3"
  },
  "language_info": {
   "codemirror_mode": {
    "name": "ipython",
    "version": 3
   },
   "file_extension": ".py",
   "mimetype": "text/x-python",
   "name": "python",
   "nbconvert_exporter": "python",
   "pygments_lexer": "ipython3",
   "version": "3.10.4"
  },
  "vscode": {
   "interpreter": {
    "hash": "b49af4ef67b0364405284eda632068094a3b991bdacf6fb1e56188b782987e75"
   }
  }
 },
 "nbformat": 4,
 "nbformat_minor": 4
}
