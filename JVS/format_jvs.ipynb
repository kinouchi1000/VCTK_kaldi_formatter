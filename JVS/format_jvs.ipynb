{
 "cells": [
  {
   "cell_type": "markdown",
   "metadata": {},
   "source": [
    "# JVS corpus download"
   ]
  },
  {
   "cell_type": "code",
   "execution_count": null,
   "metadata": {
    "collapsed": true,
    "jupyter": {
     "outputs_hidden": true
    },
    "tags": []
   },
   "outputs": [],
   "source": [
    "!pip install -U gdown\n",
    "!gdown https://drive.google.com/u/0/uc?id=19oAw8wWn3Y7z6CKChRdAyGOB9yupL_Xt\n",
    "!unzip jvs_ver1.zip"
   ]
  },
  {
   "cell_type": "code",
   "execution_count": null,
   "metadata": {},
   "outputs": [],
   "source": [
    "import pathlib\n",
    "\n",
    "kaldi_all_path = pathlib.Path(\"./data/jvs\")"
   ]
  },
  {
   "cell_type": "code",
   "execution_count": null,
   "metadata": {},
   "outputs": [
    {
     "name": "stdout",
     "output_type": "stream",
     "text": [
      "nonpara : 2018\n"
     ]
    }
   ],
   "source": [
    "import glob\n",
    "import os\n",
    "import shutil\n",
    "\n",
    "# ディレクトリを作成\n",
    "if kaldi_all_path.exists():\n",
    "  shutil.rmtree(str(kaldi_all_path))\n",
    "kaldi_all_path.mkdir(exist_ok=True, parents=True)\n",
    "\n",
    "result_dict = {}\n",
    "\n",
    "jvs_base= \"jvs_ver1\"\n",
    "not_exist_count = 0\n",
    "\n",
    "for utt_dir in glob.glob(f\"{jvs_base}/*\"):\n",
    "  if \"/jvs\" not in utt_dir:\n",
    "    continue\n",
    "  spk_id = utt_dir.split(\"/\")[-1]\n",
    "\n",
    "\n",
    "  dir_types = [\"falset10\",\"nonpara30\",\"parallel100\",\"whisper10\"]\n",
    "\n",
    "  # falset10\n",
    "  for dir_type in dir_types:\n",
    "    with open(utt_dir+f\"/{dir_type}/transcripts_utf8.txt\") as f:\n",
    "      lines = f.readlines()\n",
    "    for line in lines:\n",
    "      id_text = line.split(\":\")\n",
    "      id = id_text[0]\n",
    "      text = id_text[1]\n",
    "      wav_path = os.path.join(jvs_base,spk_id,dir_type,\"wav24kHz16bit\",id+\".wav\")\n",
    "      if not pathlib.Path(wav_path).exists():\n",
    "        not_exist_count +=1\n",
    "        continue\n",
    "      if spk_id not in result_dict:\n",
    "        result_dict[spk_id] = []\n",
    "      result_dict[spk_id].append({\"utt_id\":id, \"text\":text,\"wav\":wav_path})\n",
    "\n",
    "print(f\"nonpara : {not_exist_count}\")\n",
    "with open(kaldi_all_path/\"wav.scp\",\"w\") as wav_scp, open(kaldi_all_path/\"text\", \"w\") as text, open(kaldi_all_path/\"utt2spk\",\"w\") as utt2spk:\n",
    "  for spk_id, value in result_dict.items():\n",
    "    for v in value:\n",
    "      text.write(f\"{spk_id}_{v['utt_id']} {v['text']}\")\n",
    "      wav_scp.write(f\"{spk_id}_{v['utt_id']} {v['wav']}\\n\")\n",
    "      utt2spk.write(f\"{spk_id}_{v['utt_id']} {spk_id}\\n\")"
   ]
  },
  {
   "cell_type": "code",
   "execution_count": null,
   "metadata": {},
   "outputs": [],
   "source": [
    "# make spk2utt\n",
    "\n",
    "dir_list = [\"jvs_kaldi/all\" ]\n",
    "\n",
    "\n",
    "for dir in dir_list:\n",
    "    spk2utt_dict = {}\n",
    "    utt2spk_path = os.path.join(dir,\"utt2spk\")\n",
    "    with open(utt2spk_path) as f:\n",
    "        lines = f.readlines()\n",
    "    for line in lines:\n",
    "        utt_spk = line.rstrip().split(\" \")\n",
    "        if utt_spk[1] not in spk2utt_dict:\n",
    "            spk2utt_dict[utt_spk[1]] =[]\n",
    "        spk2utt_dict[utt_spk[1]].append(utt_spk[0])\n",
    "    with open(os.path.join(dir, \"spk2utt\"), \"w\") as spk2utt: \n",
    "        for spk , utt in spk2utt_dict.items():\n",
    "            spk2utt.write(f\"{spk} {' '.join(utt)}\\n\")\n"
   ]
  },
  {
   "cell_type": "code",
   "execution_count": 18,
   "metadata": {},
   "outputs": [],
   "source": [
    "! bash sort.sh jvs_kaldi/all jvs_kaldi/all"
   ]
  },
  {
   "cell_type": "code",
   "execution_count": null,
   "metadata": {},
   "outputs": [],
   "source": []
  }
 ],
 "metadata": {
  "kernelspec": {
   "display_name": "Python 3.10.4 ('random')",
   "language": "python",
   "name": "python3"
  },
  "language_info": {
   "codemirror_mode": {
    "name": "ipython",
    "version": 3
   },
   "file_extension": ".py",
   "mimetype": "text/x-python",
   "name": "python",
   "nbconvert_exporter": "python",
   "pygments_lexer": "ipython3",
   "version": "3.10.4"
  },
  "vscode": {
   "interpreter": {
    "hash": "b49af4ef67b0364405284eda632068094a3b991bdacf6fb1e56188b782987e75"
   }
  }
 },
 "nbformat": 4,
 "nbformat_minor": 4
}
